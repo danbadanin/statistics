{
 "cells": [
  {
   "cell_type": "markdown",
   "id": "00f33ea1",
   "metadata": {},
   "source": [
    "## Практическое задание к уроку 1"
   ]
  },
  {
   "cell_type": "code",
   "execution_count": 1,
   "id": "4f57912c",
   "metadata": {},
   "outputs": [],
   "source": [
    "from math import factorial"
   ]
  },
  {
   "cell_type": "code",
   "execution_count": 2,
   "id": "973a8ae2",
   "metadata": {},
   "outputs": [],
   "source": [
    "def combinations(n, k):\n",
    "    return int(factorial(n) / (factorial(k) * factorial(n - k)))"
   ]
  },
  {
   "cell_type": "markdown",
   "id": "0a9e9804",
   "metadata": {},
   "source": [
    "1. Из колоды в 52 карты извлекаются случайным образом 4 карты. a) Найти вероятность того, что все карты – крести. б) Найти вероятность, что среди 4-х карт окажется хотя бы один туз."
   ]
  },
  {
   "cell_type": "markdown",
   "id": "c0612b87",
   "metadata": {},
   "source": [
    "a)"
   ]
  },
  {
   "cell_type": "markdown",
   "id": "f85fef37",
   "metadata": {},
   "source": [
    "$$P(A) = \\frac{C_{13}^4}{C_{52}^4}$$"
   ]
  },
  {
   "cell_type": "code",
   "execution_count": 3,
   "id": "87ff6a92",
   "metadata": {},
   "outputs": [
    {
     "data": {
      "text/plain": [
       "0.0026410564225690276"
      ]
     },
     "execution_count": 3,
     "metadata": {},
     "output_type": "execute_result"
    }
   ],
   "source": [
    "P_a = combinations(13, 4) / combinations (52, 4)\n",
    "P_a"
   ]
  },
  {
   "cell_type": "markdown",
   "id": "9682699e",
   "metadata": {},
   "source": [
    "б)"
   ]
  },
  {
   "cell_type": "markdown",
   "id": "91e42a92",
   "metadata": {},
   "source": [
    "$$P(B) = 1 - \\frac{C_{48}^4}{C_{52}^4}$$"
   ]
  },
  {
   "cell_type": "code",
   "execution_count": 4,
   "id": "6aeadb82",
   "metadata": {},
   "outputs": [
    {
     "data": {
      "text/plain": [
       "0.2812632745405854"
      ]
     },
     "execution_count": 4,
     "metadata": {},
     "output_type": "execute_result"
    }
   ],
   "source": [
    "P_b = 1 - combinations(48, 4) / combinations (52, 4)\n",
    "P_b"
   ]
  },
  {
   "cell_type": "markdown",
   "id": "427b8b1c",
   "metadata": {},
   "source": [
    "2. На входной двери подъезда установлен кодовый замок, содержащий десять кнопок с цифрами от 0 до 9. Код содержит три цифры, которые нужно нажать одновременно. Какова вероятность того, что человек, не знающий код, откроет дверь с первой попытки?"
   ]
  },
  {
   "cell_type": "markdown",
   "id": "bfbd6c06",
   "metadata": {},
   "source": [
    "$$P(A) = \\frac{1}{C_{10}^3}$$"
   ]
  },
  {
   "cell_type": "code",
   "execution_count": 5,
   "id": "5ba78653",
   "metadata": {},
   "outputs": [
    {
     "data": {
      "text/plain": [
       "0.008333333333333333"
      ]
     },
     "execution_count": 5,
     "metadata": {},
     "output_type": "execute_result"
    }
   ],
   "source": [
    "P_a = 1 / combinations(10, 3)\n",
    "P_a"
   ]
  },
  {
   "cell_type": "markdown",
   "id": "9895965d",
   "metadata": {},
   "source": [
    "3. В ящике имеется 15 деталей, из которых 9 окрашены. Рабочий случайным образом извлекает 3 детали. Какова вероятность того, что все извлеченные детали окрашены?"
   ]
  },
  {
   "cell_type": "markdown",
   "id": "22145ee3",
   "metadata": {},
   "source": [
    "$$P(A) = \\frac{C_{9}^3}{C_{15}^3}$$"
   ]
  },
  {
   "cell_type": "code",
   "execution_count": 6,
   "id": "3240966e",
   "metadata": {},
   "outputs": [
    {
     "data": {
      "text/plain": [
       "0.18461538461538463"
      ]
     },
     "execution_count": 6,
     "metadata": {},
     "output_type": "execute_result"
    }
   ],
   "source": [
    "P_a = combinations(9, 3) / combinations(15, 3)\n",
    "P_a"
   ]
  },
  {
   "cell_type": "markdown",
   "id": "43ea26b3",
   "metadata": {},
   "source": [
    "4. В лотерее 100 билетов. Из них 2 выигрышных. Какова вероятность того, что 2 приобретенных билета окажутся выигрышными?"
   ]
  },
  {
   "cell_type": "markdown",
   "id": "d12f7e93",
   "metadata": {},
   "source": [
    "$$P(A) = \\frac{1}{C_{100}^2}$$"
   ]
  },
  {
   "cell_type": "code",
   "execution_count": 7,
   "id": "7ab1dedb",
   "metadata": {},
   "outputs": [
    {
     "data": {
      "text/plain": [
       "0.00020202020202020202"
      ]
     },
     "execution_count": 7,
     "metadata": {},
     "output_type": "execute_result"
    }
   ],
   "source": [
    "P_a = 1 / combinations(100, 2)\n",
    "P_a"
   ]
  },
  {
   "cell_type": "markdown",
   "id": "5be84167",
   "metadata": {},
   "source": [
    "5. На соревновании по биатлону один из трех спортсменов стреляет и попадает в мишень. Вероятность попадания для первого спортсмена равна 0.9, для второго — 0.8, для третьего — 0.6. Найти вероятность того, что выстрел произведен: a) первым спортсменом б) вторым спортсменом в) третьим спортсменом."
   ]
  },
  {
   "cell_type": "markdown",
   "id": "390d7ee2",
   "metadata": {},
   "source": [
    "$$P(A\\:|\\:B_1) = 0.9$$\n",
    "\n",
    "$$P(A\\:|\\:B_2) = 0.8$$\n",
    "\n",
    "$$P(A\\:|\\:B_3) = 0.6$$"
   ]
  },
  {
   "cell_type": "markdown",
   "id": "2a8356a1",
   "metadata": {},
   "source": [
    "Решеним задачу через формулу Байеса и формулу полной вероятности:"
   ]
  },
  {
   "cell_type": "markdown",
   "id": "66665586",
   "metadata": {},
   "source": [
    "$$P(B\\:|\\:A) = \\frac{P(B) \\cdot P(A\\:|\\:B)}{P(A)} ,$$"
   ]
  },
  {
   "cell_type": "markdown",
   "id": "060deb49",
   "metadata": {},
   "source": [
    "где формула полной вероятности равна:"
   ]
  },
  {
   "cell_type": "markdown",
   "id": "f944c795",
   "metadata": {},
   "source": [
    "$$P(A) = P(B_1) \\cdot P(A\\:|\\:B_1) + P(B_2) \\cdot P(A\\:|\\:B_2) + P(B_3) \\cdot P(A\\:|\\:B_3)$$"
   ]
  },
  {
   "cell_type": "markdown",
   "id": "d8538016",
   "metadata": {},
   "source": [
    "а)"
   ]
  },
  {
   "cell_type": "markdown",
   "id": "36005cf6",
   "metadata": {},
   "source": [
    "$$P(B_1\\:|\\:A) = \\frac{\\frac{1}{3} \\cdot 0.9}{\\frac{1}{3} \\cdot 0.9 + \\frac{1}{3} \\cdot 0.8 + \\frac{1}{3} \\cdot 0.6} = \\frac{9}{23}$$"
   ]
  },
  {
   "cell_type": "markdown",
   "id": "43606f7b",
   "metadata": {},
   "source": [
    "б)"
   ]
  },
  {
   "cell_type": "markdown",
   "id": "768636cf",
   "metadata": {},
   "source": [
    "$$P(B_2\\:|\\:A) = \\frac{\\frac{1}{3} \\cdot 0.8}{\\frac{1}{3} \\cdot 0.9 + \\frac{1}{3} \\cdot 0.8 + \\frac{1}{3} \\cdot 0.6} = \\frac{8}{23}$$"
   ]
  },
  {
   "cell_type": "markdown",
   "id": "3c1ba346",
   "metadata": {},
   "source": [
    "в)"
   ]
  },
  {
   "cell_type": "markdown",
   "id": "85d27213",
   "metadata": {},
   "source": [
    "$$P(B_3\\:|\\:A) = \\frac{\\frac{1}{3} \\cdot 0.6}{\\frac{1}{3} \\cdot 0.9 + \\frac{1}{3} \\cdot 0.8 + \\frac{1}{3} \\cdot 0.6} = \\frac{6}{23}$$"
   ]
  },
  {
   "cell_type": "code",
   "execution_count": null,
   "id": "d0f2c808",
   "metadata": {},
   "outputs": [],
   "source": []
  }
 ],
 "metadata": {
  "kernelspec": {
   "display_name": "Python 3 (ipykernel)",
   "language": "python",
   "name": "python3"
  },
  "language_info": {
   "codemirror_mode": {
    "name": "ipython",
    "version": 3
   },
   "file_extension": ".py",
   "mimetype": "text/x-python",
   "name": "python",
   "nbconvert_exporter": "python",
   "pygments_lexer": "ipython3",
   "version": "3.9.12"
  }
 },
 "nbformat": 4,
 "nbformat_minor": 5
}
